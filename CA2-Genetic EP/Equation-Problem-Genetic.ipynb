{
 "cells": [
  {
   "attachments": {},
   "cell_type": "markdown",
   "metadata": {},
   "source": [
    "# CA2: Genetic Algorithm (EP)\n",
    "## Amir Ali Vahidi 810199511"
   ]
  },
  {
   "attachments": {},
   "cell_type": "markdown",
   "metadata": {},
   "source": [
    "##### import needed libraries for further uses"
   ]
  },
  {
   "cell_type": "code",
   "execution_count": 1,
   "metadata": {},
   "outputs": [],
   "source": [
    "import random\n",
    "import bisect\n",
    "from itertools import accumulate\n",
    "from colorama import Fore ,Back ,Style"
   ]
  },
  {
   "attachments": {},
   "cell_type": "markdown",
   "metadata": {},
   "source": [
    "#### Initial values for calculations"
   ]
  },
  {
   "cell_type": "code",
   "execution_count": 2,
   "metadata": {},
   "outputs": [],
   "source": [
    "# assign numbers to variables below\n",
    "crossoverProbability = 0.5  # probabality\n",
    "carryPercentage = 0.2  # prob\n",
    "populationSize = 1000  # size\n",
    "mutateProbability = 0.3"
   ]
  },
  {
   "attachments": {},
   "cell_type": "markdown",
   "metadata": {},
   "source": [
    "#### Calculating Fitness function\n",
    "The fittest chromosomes have higher probability to be selected for the next \n",
    "generation. So I calculate absolute diffrence between every chromosome number representation and the goal number and one is divided by this result for the rankings. To avoid divide by zero problem, the value of diff is added by 1 for the division."
   ]
  },
  {
   "cell_type": "code",
   "execution_count": 3,
   "metadata": {},
   "outputs": [],
   "source": [
    "def calcFitness(chromosome):\n",
    "    # define the fitness measure here\n",
    "    equation_result = eval(chromosome)\n",
    "    diff = abs(equation_result - goalNumber)\n",
    "    return 1 / (diff + 1)"
   ]
  },
  {
   "attachments": {},
   "cell_type": "markdown",
   "metadata": {},
   "source": [
    "#### MatingPool:\n",
    "The probability for each chromosomes is formulated by: $$P[i] = Fitness[i] / (Total Fitness Sum)$$\n",
    "we calculate this probabilities and base on the result,we compute the cumulative probability values.\\\n",
    "Then, we randomly choose a number in range of (0,1) and select a new chromosome from the cumulative probability list to add to the MatingPool.(as much as cumulative probability is higher,the chance for a new chromosome to be in this cumulative probability is higher)\\\n",
    "\n",
    "#### Crossover function:\n",
    "If random number generated is greater than crossover probability, then this chromosome from MatingPool will be added to the crossoverPool. but if not, we will randomly choose two population index and a division index where we break the those two populations and mix them based on the division index we randomly get.\n",
    "\n",
    "#### Mutation function:\n",
    "My code will mutate at most a fourth of the population and change operands or operators from a chromosome.\n"
   ]
  },
  {
   "cell_type": "code",
   "execution_count": 4,
   "metadata": {},
   "outputs": [],
   "source": [
    "class EquationBuilder:\n",
    "\n",
    "    def __init__(self, operators, operands, equationLength, goalNumber):\n",
    "        self.operators = operators\n",
    "        self.operands = operands\n",
    "        self.equationLength = equationLength\n",
    "        self.goalNumber = goalNumber\n",
    "\n",
    "        # Create the earliest population at the begining\n",
    "        self.population = self.makeFirstPopulation()\n",
    "\n",
    "    def makeFirstPopulation(self):\n",
    "        # TODO create random chromosomes to build the early population, and return it\n",
    "        chromosomes = []\n",
    "        for _ in range(populationSize):\n",
    "            chromosome: str = ''\n",
    "            for i in range(self.equationLength // 2):\n",
    "                chromosome += str(random.choice(self.operands))\n",
    "                chromosome += str(random.choice(self.operators))\n",
    "            chromosome += str(random.choice(self.operands))\n",
    "            chromosomes.append(chromosome)\n",
    "        return chromosomes\n",
    "\n",
    "    def findEquation(self):\n",
    "        # Create a new generation of chromosomes, and make it better in every iteration\n",
    "        while True:\n",
    "            random.shuffle(self.population)\n",
    "            fitnesses = []\n",
    "            sortedChromosomes: list[tuple] = []\n",
    "            for i in range(populationSize):\n",
    "                # calculate the fitness of each chromosome\n",
    "                fitness = calcFitness(self.population[i])\n",
    "\n",
    "                # TODO return chromosome if a solution is found, else save the fitness in an array\n",
    "                if fitness == 1:\n",
    "                    return self.population[i]\n",
    "                fitnesses.append(fitness)\n",
    "\n",
    "                # TODO find the best chromosomes based on their fitnesses, and carry them directly to the next generation (optional)\n",
    "                sortedChromosomes.append((fitness, self.population[i]))\n",
    "            sortedChromosomes.sort()\n",
    "\n",
    "            carriedChromosomes = []\n",
    "            bestChromosome = []\n",
    "            for i in range(0, int(populationSize * carryPercentage)):\n",
    "                bestChromosome.append(sortedChromosomes[i][1])\n",
    "                carriedChromosomes.append(bestChromosome[i])\n",
    "\n",
    "            # A pool consisting of potential candidates for mating (crossover and mutation)\n",
    "            matingPool = self.createMatingPool(fitnesses=fitnesses)\n",
    "\n",
    "            # The pool consisting of chromosomes after crossover\n",
    "            crossoverPool = self.createCrossoverPool(matingPool)\n",
    "\n",
    "            # Delete the previous population\n",
    "            self.population.clear()\n",
    "\n",
    "            # Create the portion of population that is undergone crossover and mutation\n",
    "            for i in range(populationSize - int(populationSize * carryPercentage)):\n",
    "                self.population.append(self.mutate(crossoverPool[i]))\n",
    "\n",
    "            # Add the prominent chromosomes directly to next generation\n",
    "            self.population.extend(carriedChromosomes)\n",
    "\n",
    "    def createMatingPool(self, fitnesses: list):\n",
    "        # TODO make a brand new custom pool to accentuate prominent chromosomes (optional)\n",
    "        fitnesses_sum = sum(fitnesses)\n",
    "        probability_list = [fitness / fitnesses_sum for fitness in fitnesses]\n",
    "        cumulative_probs_list = list(accumulate(probability_list))\n",
    "        # TODO create the matingPool using custom pool created in the last step and return it\n",
    "        matingPool = []\n",
    "        for i in range(populationSize):\n",
    "            rnd_num = random.uniform(0, 1)\n",
    "            # if C[2] > R[1]> C[1]: then new_chromosome=chromosome[2] and etc.\n",
    "            to_be_added = bisect.bisect_left(cumulative_probs_list, rnd_num)\n",
    "            # print(rnd_num,to_be_added)\n",
    "            matingPool.append(self.population[to_be_added])\n",
    "\n",
    "        return matingPool\n",
    "\n",
    "    def createCrossoverPool(self, matingPool):\n",
    "        crossoverPool = []\n",
    "        for i in range(len(matingPool)):\n",
    "            if random.random() > crossoverProbability:\n",
    "                # TODO don't perform crossover and add the chromosomes to the next generation directly to crossoverPool\n",
    "                crossoverPool.append(matingPool[i])\n",
    "            else:\n",
    "                # TODO find 2 child chromosomes, crossover, and add the result to crossoverPool\n",
    "                index1, index2 = 0, 0\n",
    "                where_to_break = 0\n",
    "                while index1 == index2:\n",
    "                    index1 = random.randint(0, populationSize - 1)\n",
    "                    index2 = random.randint(0, populationSize - 1)\n",
    "                    where_to_break = random.randint(1, self.equationLength - 1)\n",
    "\n",
    "                # second_half=equationLength-first_half\n",
    "                new_chromosome1 = self.population[index1][:where_to_break] + self.population[index2][where_to_break:]\n",
    "                new_chromosome2 = self.population[index2][:where_to_break] + self.population[index1][where_to_break:]\n",
    "                crossoverPool.append(new_chromosome1)\n",
    "                crossoverPool.append(new_chromosome2)\n",
    "\n",
    "        return crossoverPool\n",
    "\n",
    "    def mutate(self, chromosome):\n",
    "        # mutate the input chromosome\n",
    "        # mutate maximum 1/4 of chromosome\n",
    "        for _ in range(self.equationLength // 4):\n",
    "            where_to_mutate = random.randint(0, self.equationLength - 1)\n",
    "            if where_to_mutate % 2 == 0:  # operand\n",
    "                chromosome = chromosome[:where_to_mutate] + str(random.choice(self.operands)) + chromosome[\n",
    "                                                                                                where_to_mutate + 1:]\n",
    "            else:  # operator\n",
    "                chromosome = chromosome[:where_to_mutate] + str(random.choice(self.operators)) + chromosome[\n",
    "                                                                                                 where_to_mutate + 1:]\n",
    "\n",
    "        return chromosome\n"
   ]
  },
  {
   "attachments": {},
   "cell_type": "markdown",
   "metadata": {},
   "source": [
    "#### Input"
   ]
  },
  {
   "cell_type": "code",
   "execution_count": 35,
   "metadata": {},
   "outputs": [],
   "source": [
    "def read_input():\n",
    "    operands = [1, 2, 3, 4, 5, 6, 7, 8]\n",
    "    operators = ['+', '-', '*']\n",
    "    equationLength = 21\n",
    "    goalNumber = 18019\n",
    "\n",
    "    return operands, operators, equationLength, goalNumber"
   ]
  },
  {
   "cell_type": "code",
   "execution_count": 69,
   "metadata": {},
   "outputs": [
    {
     "name": "stdout",
     "output_type": "stream",
     "text": [
      "\u001b[32m 7-6+5*4+5*4*6*6*5*5-2 \u001b[39m\n"
     ]
    }
   ],
   "source": [
    "if __name__ == '__main__':\n",
    "    operands, operators, equationLength, goalNumber = read_input()\n",
    "    equationBuilder = EquationBuilder(operators, operands, equationLength, goalNumber)\n",
    "    equation = equationBuilder.findEquation()\n",
    "    print(Fore.GREEN , equation  ,Fore.RESET)\n"
   ]
  },
  {
   "attachments": {},
   "cell_type": "markdown",
   "metadata": {},
   "source": [
    "## Questions\n",
    "\n",
    "1. **`Very Large or Very Small Population`**\n",
    "If the population is very small, the diversity decreases and it takes more time to calculate because the crossover function has lesser effect and it is the mutation funtion that plays the major role.\\\n",
    "On contrast, if the population is very large, the diversity increases but it takes more time to calculate because it calculate more states than it is needed.\n",
    "\n",
    "2. **`Population Increases Effects on Algorithm`**\n",
    "The diversity and number of chromosomes increases. But on the other hand, the calculations become heavier and data convergence may also be lost. \n",
    "\n",
    "3. **`Crossover & Mutation`**\n",
    "Crossover takes 2 chromosomes and moves some of their genes to make a better combination by combining 2 genes. But Mutation directly changes the information of a chromosome so that we always have new chromosomes and do not stop in one generation of chromosomes.\\\n",
    "If the population is very small, Crossover will not be efficient and if the population is very large, the mutation alone will take a huge time.\n",
    "\n",
    "4. **`Increase Time Efficiency for EP`**\n",
    "Choosing the right value for the problem parameters and well defining the fitness function can be helpful.\n",
    "\n",
    "5. **`How to Solve Getting Dtuck at Some Point and Chromosomes NOT Changing Problem`**\n",
    "One of the reasons may be setting the mutationProbability a low number.This will cause the fitness not to increase and we will not reach the correct answer.\\\n",
    "We can solve this problem by increasing the mutationProbability\n",
    "and run the algorithm several times.\n",
    "\n",
    "6. **`In Case of a Problem Without an Answer, What Can Be Done`**\n",
    "We can set a limit on how many times program should loop over the population and return the nearest answer to the goal answer.\\\n",
    "Another way is to set a time limit on the program."
   ]
  }
 ],
 "metadata": {
  "kernelspec": {
   "display_name": "Python 3",
   "language": "python",
   "name": "python3"
  },
  "language_info": {
   "codemirror_mode": {
    "name": "ipython",
    "version": 3
   },
   "file_extension": ".py",
   "mimetype": "text/x-python",
   "name": "python",
   "nbconvert_exporter": "python",
   "pygments_lexer": "ipython3",
   "version": "3.9.13"
  },
  "orig_nbformat": 4,
  "vscode": {
   "interpreter": {
    "hash": "68375c11c71bdf0e2d2cde71877437749d7a2554c99198e80005aa418c748a2c"
   }
  }
 },
 "nbformat": 4,
 "nbformat_minor": 2
}
