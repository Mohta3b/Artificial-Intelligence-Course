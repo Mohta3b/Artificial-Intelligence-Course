{
 "cells": [
  {
   "cell_type": "code",
   "execution_count": 1,
   "metadata": {},
   "outputs": [],
   "source": [
    "import pandas as pd\n",
    "from sklearn import preprocessing\n",
    "import numpy as np\n",
    "import matplotlib.pyplot as plt\n"
   ]
  },
  {
   "cell_type": "code",
   "execution_count": 2,
   "metadata": {},
   "outputs": [],
   "source": [
    "\n",
    "data = pd.read_csv(\"train.csv\")"
   ]
  },
  {
   "cell_type": "code",
   "execution_count": 3,
   "metadata": {},
   "outputs": [
    {
     "name": "stdout",
     "output_type": "stream",
     "text": [
      "info:\n",
      "<bound method DataFrame.info of      PassengerId  Survived  Pclass  \\\n",
      "0              1         0       3   \n",
      "1              2         1       1   \n",
      "2              3         1       3   \n",
      "3              4         1       1   \n",
      "4              5         0       3   \n",
      "..           ...       ...     ...   \n",
      "886          887         0       2   \n",
      "887          888         1       1   \n",
      "888          889         0       3   \n",
      "889          890         1       1   \n",
      "890          891         0       3   \n",
      "\n",
      "                                                  Name     Sex   Age  SibSp  \\\n",
      "0                              Braund, Mr. Owen Harris    male  22.0      1   \n",
      "1    Cumings, Mrs. John Bradley (Florence Briggs Th...  female  38.0      1   \n",
      "2                               Heikkinen, Miss. Laina  female  26.0      0   \n",
      "3         Futrelle, Mrs. Jacques Heath (Lily May Peel)  female  35.0      1   \n",
      "4                             Allen, Mr. William Henry    male  35.0      0   \n",
      "..                                                 ...     ...   ...    ...   \n",
      "886                              Montvila, Rev. Juozas    male  27.0      0   \n",
      "887                       Graham, Miss. Margaret Edith  female  19.0      0   \n",
      "888           Johnston, Miss. Catherine Helen \"Carrie\"  female   NaN      1   \n",
      "889                              Behr, Mr. Karl Howell    male  26.0      0   \n",
      "890                                Dooley, Mr. Patrick    male  32.0      0   \n",
      "\n",
      "     Parch            Ticket     Fare Cabin Embarked  \n",
      "0        0         A/5 21171   7.2500   NaN        S  \n",
      "1        0          PC 17599  71.2833   C85        C  \n",
      "2        0  STON/O2. 3101282   7.9250   NaN        S  \n",
      "3        0            113803  53.1000  C123        S  \n",
      "4        0            373450   8.0500   NaN        S  \n",
      "..     ...               ...      ...   ...      ...  \n",
      "886      0            211536  13.0000   NaN        S  \n",
      "887      0            112053  30.0000   B42        S  \n",
      "888      2        W./C. 6607  23.4500   NaN        S  \n",
      "889      0            111369  30.0000  C148        C  \n",
      "890      0            370376   7.7500   NaN        Q  \n",
      "\n",
      "[891 rows x 12 columns]>\n",
      "head:\n",
      "   PassengerId  Survived  Pclass  \\\n",
      "0            1         0       3   \n",
      "1            2         1       1   \n",
      "2            3         1       3   \n",
      "3            4         1       1   \n",
      "4            5         0       3   \n",
      "\n",
      "                                                Name     Sex   Age  SibSp  \\\n",
      "0                            Braund, Mr. Owen Harris    male  22.0      1   \n",
      "1  Cumings, Mrs. John Bradley (Florence Briggs Th...  female  38.0      1   \n",
      "2                             Heikkinen, Miss. Laina  female  26.0      0   \n",
      "3       Futrelle, Mrs. Jacques Heath (Lily May Peel)  female  35.0      1   \n",
      "4                           Allen, Mr. William Henry    male  35.0      0   \n",
      "\n",
      "   Parch            Ticket     Fare Cabin Embarked  \n",
      "0      0         A/5 21171   7.2500   NaN        S  \n",
      "1      0          PC 17599  71.2833   C85        C  \n",
      "2      0  STON/O2. 3101282   7.9250   NaN        S  \n",
      "3      0            113803  53.1000  C123        S  \n",
      "4      0            373450   8.0500   NaN        S  \n",
      "tail:\n",
      "     PassengerId  Survived  Pclass                                      Name  \\\n",
      "886          887         0       2                     Montvila, Rev. Juozas   \n",
      "887          888         1       1              Graham, Miss. Margaret Edith   \n",
      "888          889         0       3  Johnston, Miss. Catherine Helen \"Carrie\"   \n",
      "889          890         1       1                     Behr, Mr. Karl Howell   \n",
      "890          891         0       3                       Dooley, Mr. Patrick   \n",
      "\n",
      "        Sex   Age  SibSp  Parch      Ticket   Fare Cabin Embarked  \n",
      "886    male  27.0      0      0      211536  13.00   NaN        S  \n",
      "887  female  19.0      0      0      112053  30.00   B42        S  \n",
      "888  female   NaN      1      2  W./C. 6607  23.45   NaN        S  \n",
      "889    male  26.0      0      0      111369  30.00  C148        C  \n",
      "890    male  32.0      0      0      370376   7.75   NaN        Q  \n",
      "describe:\n",
      "       PassengerId    Survived      Pclass         Age       SibSp  \\\n",
      "count   891.000000  891.000000  891.000000  714.000000  891.000000   \n",
      "mean    446.000000    0.383838    2.308642   29.699118    0.523008   \n",
      "std     257.353842    0.486592    0.836071   14.526497    1.102743   \n",
      "min       1.000000    0.000000    1.000000    0.420000    0.000000   \n",
      "25%     223.500000    0.000000    2.000000   20.125000    0.000000   \n",
      "50%     446.000000    0.000000    3.000000   28.000000    0.000000   \n",
      "75%     668.500000    1.000000    3.000000   38.000000    1.000000   \n",
      "max     891.000000    1.000000    3.000000   80.000000    8.000000   \n",
      "\n",
      "            Parch        Fare  \n",
      "count  891.000000  891.000000  \n",
      "mean     0.381594   32.204208  \n",
      "std      0.806057   49.693429  \n",
      "min      0.000000    0.000000  \n",
      "25%      0.000000    7.910400  \n",
      "50%      0.000000   14.454200  \n",
      "75%      0.000000   31.000000  \n",
      "max      6.000000  512.329200  \n"
     ]
    }
   ],
   "source": [
    "\n",
    "print(\"info:\")\n",
    "print(data.info)\n",
    "\n",
    "print(\"head:\")\n",
    "print(data.head())\n",
    "\n",
    "print(\"tail:\")\n",
    "print(data.tail())\n",
    "\n",
    "print(\"describe:\")\n",
    "print(data.describe())"
   ]
  },
  {
   "cell_type": "code",
   "execution_count": 4,
   "metadata": {},
   "outputs": [
    {
     "name": "stdout",
     "output_type": "stream",
     "text": [
      "!!!!!!!!!!!!!!!!!  PART 2  !!!!!!!!!!!!!!!!!\n",
      "0      1\n",
      "1      0\n",
      "2      0\n",
      "3      0\n",
      "4      1\n",
      "      ..\n",
      "886    1\n",
      "887    0\n",
      "888    0\n",
      "889    1\n",
      "890    1\n",
      "Name: Sex, Length: 891, dtype: int64\n"
     ]
    }
   ],
   "source": [
    "\n",
    "print(\"!!!!!!!!!!!!!!!!!  PART 2  !!!!!!!!!!!!!!!!!\")\n",
    "label_encoder = preprocessing.LabelEncoder()\n",
    "data['Sex'] = label_encoder.fit_transform(data['Sex'])\n",
    "print(data['Sex'])"
   ]
  },
  {
   "cell_type": "code",
   "execution_count": 5,
   "metadata": {},
   "outputs": [
    {
     "name": "stdout",
     "output_type": "stream",
     "text": [
      "!!!!!!!!!!!!!!!!!  PART 3  !!!!!!!!!!!!!!!!!\n",
      "PassengerId      0\n",
      "Survived         0\n",
      "Pclass           0\n",
      "Name             0\n",
      "Sex              0\n",
      "Age            177\n",
      "SibSp            0\n",
      "Parch            0\n",
      "Ticket           0\n",
      "Fare             0\n",
      "Cabin          687\n",
      "Embarked         2\n",
      "dtype: int64\n",
      "PassengerId    0\n",
      "Survived       0\n",
      "Pclass         0\n",
      "Name           0\n",
      "Sex            0\n",
      "Age            0\n",
      "SibSp          0\n",
      "Parch          0\n",
      "Ticket         0\n",
      "Fare           0\n",
      "Embarked       0\n",
      "dtype: int64\n"
     ]
    }
   ],
   "source": [
    "print(\"!!!!!!!!!!!!!!!!!  PART 3  !!!!!!!!!!!!!!!!!\")\n",
    "print(data.isna().sum())\n",
    "# data=data.fillna(data.mean())\n",
    "\n",
    "data['Age'] = data['Age'].fillna(data['Age'].mean()) # fill with mean\n",
    "data = data.drop(\"Cabin\", axis=1) #delete Cabin columns\n",
    "data['Embarked'] = data['Embarked'].fillna(0) # fill with mean\n",
    "# print(data['Cabin'].tail())\n",
    "\n",
    "print(data.isna().sum())\n"
   ]
  },
  {
   "cell_type": "markdown",
   "metadata": {},
   "source": [
    "مزایا و معایب روش پر کردن سلول‌ها با مقدار میانگین\n",
    "معایب: ۲-می‌تواند تاثیر زیادی در مرکز نمودار PDF داشته باشد. (به علت زیاد شدن داده‌های برابر میانگین) ۲-ممکن است داده ما گسسسته باشد یا هر عدد معنای خاصی داشته باشد. در این صورت میانگین می‌تواند بی‌معنا باشد\n",
    "مزایا: ۱-محاسبه‌اش راحت است ۲-میانگین جامعه را به صورت کلی به خوبی نشان می‌دهد."
   ]
  },
  {
   "cell_type": "code",
   "execution_count": 6,
   "metadata": {},
   "outputs": [
    {
     "name": "stdout",
     "output_type": "stream",
     "text": [
      "!!!!!!!!!!!!!!!!!  PART 5  !!!!!!!!!!!!!!!!!\n",
      "female count:  314\n",
      "male count:  577\n",
      "male boarded Southampton:  441\n"
     ]
    }
   ],
   "source": [
    "print(\"!!!!!!!!!!!!!!!!!  PART 5  !!!!!!!!!!!!!!!!!\")\n",
    "# print(\"female count:  \" + str(data['Sex'].value_counts(0)))\n",
    "# print(\"male count:  \"+ str(data['Sex'].value_counts(1)))\n",
    "# print(data[\"Sex\"].value_counts())\n",
    "print(\"female count:  \" + str(data[data.Sex == 0].shape[0]))\n",
    "print(\"male count:  \" + str(data[data.Sex == 1].shape[0]))\n",
    "print(\"male boarded Southampton:  \" + str(data.value_counts([\"Sex\", \"Embarked\"])[1][0]))\n",
    "# print(data.value_counts([\"Sex\", \"Embarked\"])[1][0])\n"
   ]
  },
  {
   "cell_type": "code",
   "execution_count": 7,
   "metadata": {},
   "outputs": [
    {
     "name": "stdout",
     "output_type": "stream",
     "text": [
      "!!!!!!!!!!!!!!!!!  PART 6  !!!!!!!!!!!!!!!!!\n",
      "passengers above 35 with ticket type 3 and with no company:  41\n"
     ]
    }
   ],
   "source": [
    "print(\"!!!!!!!!!!!!!!!!!  PART 6  !!!!!!!!!!!!!!!!!\")\n",
    "print(\"passengers above 35 with ticket type 3 and with no company:  \" + str(\n",
    "    data.loc[(data['Age'] > 35) & (data['Pclass'] == 3) & (data['SibSp'] == 0) & (data['Parch'] == 0)].shape[0]))\n"
   ]
  },
  {
   "cell_type": "code",
   "execution_count": 8,
   "metadata": {},
   "outputs": [
    {
     "name": "stdout",
     "output_type": "stream",
     "text": [
      "!!!!!!!!!!!!!!!!!  PART 7  !!!!!!!!!!!!!!!!!\n",
      "13.276029870129872\n",
      "Execution time: 0.001837015151977539\n"
     ]
    }
   ],
   "source": [
    "print(\"!!!!!!!!!!!!!!!!!  PART 7  !!!!!!!!!!!!!!!!!\")\n",
    "import time\n",
    "start = time.time()\n",
    "print(data.loc[(data['Embarked'] == 'Q')]['Fare'].mean())\n",
    "end = time.time()\n",
    "print(\"Execution time: \" + str(end - start))"
   ]
  },
  {
   "cell_type": "code",
   "execution_count": 9,
   "metadata": {},
   "outputs": [
    {
     "name": "stdout",
     "output_type": "stream",
     "text": [
      "!!!!!!!!!!!!!!!!!  PART 8  !!!!!!!!!!!!!!!!!\n",
      "13.276029870129872\n",
      "Execution time: 0.05957841873168945\n"
     ]
    }
   ],
   "source": [
    "print(\"!!!!!!!!!!!!!!!!!  PART 8  !!!!!!!!!!!!!!!!!\")\n",
    "count=0\n",
    "sum=0\n",
    "start = time.time()\n",
    "for index,row in data.iterrows():\n",
    "    if row['Embarked']=='Q':\n",
    "        count+=1\n",
    "        sum+=row['Fare']\n",
    "print(sum/count)\n",
    "end = time.time()\n",
    "print(\"Execution time: \" + str(end - start))"
   ]
  },
  {
   "cell_type": "code",
   "execution_count": 10,
   "metadata": {},
   "outputs": [
    {
     "name": "stdout",
     "output_type": "stream",
     "text": [
      "!!!!!!!!!!!!!!!!!  PART 9  !!!!!!!!!!!!!!!!!\n"
     ]
    },
    {
     "data": {
      "text/plain": [
       "array([[<AxesSubplot:title={'center':'PassengerId'}>,\n",
       "        <AxesSubplot:title={'center':'Survived'}>,\n",
       "        <AxesSubplot:title={'center':'Pclass'}>],\n",
       "       [<AxesSubplot:title={'center':'Sex'}>,\n",
       "        <AxesSubplot:title={'center':'Age'}>,\n",
       "        <AxesSubplot:title={'center':'SibSp'}>],\n",
       "       [<AxesSubplot:title={'center':'Parch'}>,\n",
       "        <AxesSubplot:title={'center':'Fare'}>, <AxesSubplot:>]],\n",
       "      dtype=object)"
      ]
     },
     "execution_count": 10,
     "metadata": {},
     "output_type": "execute_result"
    },
    {
     "data": {
      "image/png": "[encoded data removed]",
      "text/plain": [
       "<Figure size 864x648 with 9 Axes>"
      ]
     },
     "metadata": {
      "needs_background": "light"
     },
     "output_type": "display_data"
    }
   ],
   "source": [
    "print(\"!!!!!!!!!!!!!!!!!  PART 9  !!!!!!!!!!!!!!!!!\")\n",
    "data.hist(bins=20, grid=False, figsize=(12,9))\n",
    "# df=pd.DataFrame(data)\n",
    "# df.hist()\n",
    "# df.hist(column='Sex')\n",
    "# df.hist(column='PassengerId')\n",
    "# df.hist(column='Survived')\n",
    "# df.hist(column='Pclass')\n",
    "# df.hist(column='Parch')\n",
    "# df.hist(column='Fare')\n",
    "# df.hist(column='SibSp')\n"
   ]
  },
  {
   "cell_type": "code",
   "execution_count": 11,
   "metadata": {},
   "outputs": [
    {
     "name": "stdout",
     "output_type": "stream",
     "text": [
      "!!!!!!!!!!!!!!!!!  PART 10  !!!!!!!!!!!!!!!!!\n"
     ]
    },
    {
     "name": "stderr",
     "output_type": "stream",
     "text": [
      "/tmp/ipykernel_13809/3809444320.py:2: FutureWarning: Dropping of nuisance columns in DataFrame reductions (with 'numeric_only=None') is deprecated; in a future version this will raise TypeError.  Select only valid columns before calling the reduction.\n",
      "  normalized_data=(data-data.mean())/data.std()\n"
     ]
    },
    {
     "name": "stdout",
     "output_type": "stream",
     "text": [
      "              Age Embarked      Fare Name     Parch  PassengerId    Pclass  \\\n",
      "0   -5.921480e-01      NaN -0.502163  NaN -0.473408    -1.729137  0.826913   \n",
      "1    6.384304e-01      NaN  0.786404  NaN -0.473408    -1.725251 -1.565228   \n",
      "2   -2.845034e-01      NaN -0.488580  NaN -0.473408    -1.721365  0.826913   \n",
      "3    4.076970e-01      NaN  0.420494  NaN -0.473408    -1.717480 -1.565228   \n",
      "4    4.076970e-01      NaN -0.486064  NaN -0.473408    -1.713594  0.826913   \n",
      "..            ...      ...       ...  ...       ...          ...       ...   \n",
      "886 -2.075923e-01      NaN -0.386454  NaN -0.473408     1.713594 -0.369158   \n",
      "887 -8.228815e-01      NaN -0.044356  NaN -0.473408     1.717480 -1.565228   \n",
      "888  4.371893e-15      NaN -0.176164  NaN  2.007806     1.721365  0.826913   \n",
      "889 -2.845034e-01      NaN -0.044356  NaN -0.473408     1.725251 -1.565228   \n",
      "890  1.769635e-01      NaN -0.492101  NaN -0.473408     1.729137  0.826913   \n",
      "\n",
      "          Sex     SibSp  Survived Ticket  \n",
      "0    0.737281  0.432550 -0.788829    NaN  \n",
      "1   -1.354813  0.432550  1.266279    NaN  \n",
      "2   -1.354813 -0.474279  1.266279    NaN  \n",
      "3   -1.354813  0.432550  1.266279    NaN  \n",
      "4    0.737281 -0.474279 -0.788829    NaN  \n",
      "..        ...       ...       ...    ...  \n",
      "886  0.737281 -0.474279 -0.788829    NaN  \n",
      "887 -1.354813 -0.474279  1.266279    NaN  \n",
      "888 -1.354813  0.432550 -0.788829    NaN  \n",
      "889  0.737281 -0.474279  1.266279    NaN  \n",
      "890  0.737281 -0.474279 -0.788829    NaN  \n",
      "\n",
      "[891 rows x 11 columns]\n"
     ]
    },
    {
     "data": {
      "image/png": "[encoded data removed]",
      "text/plain": [
       "<Figure size 864x648 with 9 Axes>"
      ]
     },
     "metadata": {
      "needs_background": "light"
     },
     "output_type": "display_data"
    }
   ],
   "source": [
    "print(\"!!!!!!!!!!!!!!!!!  PART 10  !!!!!!!!!!!!!!!!!\")\n",
    "normalized_data=(data-data.mean())/data.std()\n",
    "data.hist(bins=20, grid=False, figsize=(12,9))\n",
    "\n",
    "print(normalized_data)"
   ]
  },
  {
   "cell_type": "code",
   "execution_count": 12,
   "metadata": {},
   "outputs": [
    {
     "name": "stdout",
     "output_type": "stream",
     "text": [
      "!!!!!!!!!!!!!!!!!  PART 11  !!!!!!!!!!!!!!!!!\n"
     ]
    },
    {
     "ename": "NameError",
     "evalue": "name 'numeric_cols' is not defined",
     "output_type": "error",
     "traceback": [
      "\u001b[0;31m---------------------------------------------------------------------------\u001b[0m",
      "\u001b[0;31mNameError\u001b[0m                                 Traceback (most recent call last)",
      "\u001b[0;32m/tmp/ipykernel_13809/2641655910.py\u001b[0m in \u001b[0;36m<module>\u001b[0;34m\u001b[0m\n\u001b[1;32m      3\u001b[0m \u001b[0;34m\u001b[0m\u001b[0m\n\u001b[1;32m      4\u001b[0m \u001b[0;34m\u001b[0m\u001b[0m\n\u001b[0;32m----> 5\u001b[0;31m \u001b[0msurvived_list\u001b[0m \u001b[0;34m=\u001b[0m \u001b[0mdata\u001b[0m\u001b[0;34m[\u001b[0m\u001b[0mnumeric_cols\u001b[0m\u001b[0;34m]\u001b[0m\u001b[0;34m.\u001b[0m\u001b[0mloc\u001b[0m\u001b[0;34m[\u001b[0m\u001b[0mdata\u001b[0m\u001b[0;34m[\u001b[0m\u001b[0;34m'Survived'\u001b[0m\u001b[0;34m]\u001b[0m\u001b[0;34m==\u001b[0m\u001b[0;36m1\u001b[0m\u001b[0;34m]\u001b[0m\u001b[0;34m\u001b[0m\u001b[0;34m\u001b[0m\u001b[0m\n\u001b[0m\u001b[1;32m      6\u001b[0m \u001b[0munsurvived_list\u001b[0m \u001b[0;34m=\u001b[0m \u001b[0mdata\u001b[0m\u001b[0;34m[\u001b[0m\u001b[0mnumeric_cols\u001b[0m\u001b[0;34m]\u001b[0m\u001b[0;34m.\u001b[0m\u001b[0mloc\u001b[0m\u001b[0;34m[\u001b[0m\u001b[0mdata\u001b[0m\u001b[0;34m[\u001b[0m\u001b[0;34m'Survived'\u001b[0m\u001b[0;34m]\u001b[0m\u001b[0;34m==\u001b[0m\u001b[0;36m0\u001b[0m\u001b[0;34m]\u001b[0m\u001b[0;34m\u001b[0m\u001b[0;34m\u001b[0m\u001b[0m\n\u001b[1;32m      7\u001b[0m \u001b[0;34m\u001b[0m\u001b[0m\n",
      "\u001b[0;31mNameError\u001b[0m: name 'numeric_cols' is not defined"
     ]
    }
   ],
   "source": [
    "print(\"!!!!!!!!!!!!!!!!!  PART 11  !!!!!!!!!!!!!!!!!\")\n",
    "from scipy.stats import norm\n",
    "\n",
    "\n",
    "survived_list = data[numeric_cols].loc[data['Survived']==1]\n",
    "unsurvived_list = data[numeric_cols].loc[data['Survived']==0]\n",
    "\n",
    "\n",
    "features = pd.DataFrame(\n",
    "    {'survived_mean' : survived_list.mean(),\n",
    "    'survived_std' : survived_list.std(),\n",
    "    'unsurvived_mean' : unsurvived_list.mean(),\n",
    "    'unsurvived_std' : unsurvived_list.std(),\n",
    "    }\n",
    ")\n",
    "\n",
    "display(features)\n",
    "\n",
    "x = np.arange(-5, 5, 0.01)\n",
    "\n",
    "plt.rcParams[\"figure.figsize\"] = (7,3)\n",
    "for i, feature in features.iterrows():\n",
    "    plt.title(feature.name)\n",
    "    plt.plot(x, norm.pdf(x, feature['survived_mean'], feature['survived_std']), 'b')\n",
    "    plt.plot(x, norm.pdf(x, feature['unsurvived_mean'], feature['unsurvived_std']), 'r')\n",
    "    plt.show()\n"
   ]
  },
  {
   "cell_type": "markdown",
   "metadata": {},
   "source": [
    "بیشترین تفاوت در بین دو نمودار sex و fare میباشد.\n",
    "این دو نمودار میتوانند معیار مقایسه برای ما باشند.\n",
    "که البته sex نمودار بهتری بنظر میرسد."
   ]
  },
  {
   "cell_type": "code",
   "execution_count": null,
   "metadata": {},
   "outputs": [],
   "source": [
    "print(\"!!!!!!!!!!!!!!!!!  PART 12  !!!!!!!!!!!!!!!!!\")\n",
    "test = pd.read_csv('test.csv')\n",
    "\n",
    "feature_name = 'Sex'\n",
    "\n",
    "test_temp = test.copy()\n",
    "test_temp['Sex'].replace({'male':1, 'female':0}, inplace=True)\n",
    "test_temp['Embarked'].replace({'C':0, 'Q':1, 'S': 2}, inplace=True)\n",
    "\n",
    "normalized_test = test_temp[numeric_cols].apply(lambda iterator: (iterator - iterator.mean())/iterator.std())\n",
    "\n",
    "train_radix_feature = features.loc[feature_name]\n",
    "\n",
    "test_survived_pdf = norm.pdf(normalized_test[feature_name], train_radix_feature['survived_mean'], train_radix_feature['survived_std'])\n",
    "test_unsurvived_pdf = norm.pdf(normalized_test[feature_name], train_radix_feature['unsurvived_mean'], train_radix_feature['unsurvived_std'])\n",
    "test['Survived'] = np.where(test_survived_pdf > test_unsurvived_pdf, 1, 0)\n",
    "\n",
    "test.to_csv('result.csv', index = False)\n",
    "\n",
    "test\n"
   ]
  },
  {
   "cell_type": "code",
   "execution_count": null,
   "metadata": {},
   "outputs": [],
   "source": []
  },
  {
   "cell_type": "code",
   "execution_count": null,
   "metadata": {},
   "outputs": [],
   "source": []
  },
  {
   "cell_type": "code",
   "execution_count": null,
   "metadata": {},
   "outputs": [],
   "source": []
  }
 ],
 "metadata": {
  "kernelspec": {
   "display_name": "Python 3",
   "language": "python",
   "name": "python3"
  },
  "language_info": {
   "codemirror_mode": {
    "name": "ipython",
    "version": 3
   },
   "file_extension": ".py",
   "mimetype": "text/x-python",
   "name": "python",
   "nbconvert_exporter": "python",
   "pygments_lexer": "ipython3",
   "version": "3.9.13 (tags/v3.9.13:6de2ca5, May 17 2022, 16:36:42) [MSC v.1929 64 bit (AMD64)]"
  },
  "vscode": {
   "interpreter": {
    "hash": "68375c11c71bdf0e2d2cde71877437749d7a2554c99198e80005aa418c748a2c"
   }
  }
 },
 "nbformat": 4,
 "nbformat_minor": 2
}
